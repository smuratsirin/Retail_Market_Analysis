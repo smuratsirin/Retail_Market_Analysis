{
  "nbformat": 4,
  "nbformat_minor": 0,
  "metadata": {
    "colab": {
      "provenance": [],
      "mount_file_id": "1x467vQ0RKOhIsefd_YWYiU9RKnescA20",
      "authorship_tag": "ABX9TyN7feiLKvHt8ncq5zgcSP48",
      "include_colab_link": true
    },
    "kernelspec": {
      "name": "python3",
      "display_name": "Python 3"
    },
    "language_info": {
      "name": "python"
    }
  },
  "cells": [
    {
      "cell_type": "markdown",
      "metadata": {
        "id": "view-in-github",
        "colab_type": "text"
      },
      "source": [
        "<a href=\"https://colab.research.google.com/github/smuratsirin/Retail_Market_Analysis/blob/main/Retail_Model_v0105.ipynb\" target=\"_parent\"><img src=\"https://colab.research.google.com/assets/colab-badge.svg\" alt=\"Open In Colab\"/></a>"
      ]
    },
    {
      "cell_type": "markdown",
      "source": [
        "This is Retail Market mode and it is developed as\n",
        "Generator Phase:\n",
        "\n",
        "1.   Generator Phase\n",
        "\n",
        "* Input: Projected demand.\n",
        "* Process: Unit dispatch based on the projected demand.\n",
        "* Output: Hourly price and emission data.\n",
        "\n",
        "2.   Retail Phase\n",
        "\n",
        "* Input: Hourly price and emission data from generators.\n",
        "* Process: Calculation of prices to households, incorporating a profit margin.\n",
        "* Output: Price information inclusive of profit margin.\n",
        "\n",
        "3. Household Decision Phase:\n",
        "\n",
        "* Input: Price and emission information from retail companies.\n",
        "* Process: Households evaluate the information against their decision function to determine whether to switch their retailer.\n",
        "* Output: Decision to stay with the current retailer or switch.\n",
        "* Feedback: Information about household decisions is sent back to retail companies.\n",
        "\n",
        "4. Retail Adjustment Phase:\n",
        "\n",
        "* Input: Feedback from households on their decisions.\n",
        "* Process: Retailers adjust profit margins based on household decisions to optimize future pricing strategies.\n",
        "* Output: Adjusted profit margins.\n",
        "* Implementation: Revised prices are prepared for the next cycle.\n",
        "\n"
      ],
      "metadata": {
        "id": "pxGd1iVw5VDp"
      }
    },
    {
      "cell_type": "markdown",
      "source": [
        "DEFINING FUNCTIONS"
      ],
      "metadata": {
        "id": "W74ylWSW6YJQ"
      }
    },
    {
      "cell_type": "code",
      "source": [
        "import os\n",
        "os.getcwd()"
      ],
      "metadata": {
        "colab": {
          "base_uri": "https://localhost:8080/",
          "height": 35
        },
        "id": "TPiXwJ_K9LYP",
        "outputId": "5590ba2a-ac4b-485d-8208-44f558da03c1"
      },
      "execution_count": 1,
      "outputs": [
        {
          "output_type": "execute_result",
          "data": {
            "text/plain": [
              "'/content'"
            ],
            "application/vnd.google.colaboratory.intrinsic+json": {
              "type": "string"
            }
          },
          "metadata": {},
          "execution_count": 1
        }
      ]
    },
    {
      "cell_type": "code",
      "source": [
        "## This function generates random costs values for generators\n",
        "def randomize_costs_and_emissions(df, columns, seed=42):\n",
        "    # Seed for reproducibility\n",
        "    np.random.seed(seed)\n",
        "\n",
        "    # Create a copy of the dataframe to avoid modifying the original data\n",
        "    modified_df = df.copy()\n",
        "\n",
        "    # Apply randomization within ±20% for specified columns\n",
        "    for column in columns:\n",
        "        # Generate random factors between 0.8 (80%) and 1.2 (120%)\n",
        "        random_factors = np.random.uniform(0.8, 1.2, size=df.shape[0])\n",
        "        modified_df[column] = df[column] * random_factors\n",
        "\n",
        "    # Apply additional division for the Emissions column\n",
        "    modified_df['Emissions'] = modified_df['Emissions'] / 1000\n",
        "\n",
        "    # Convert all column names to lowercase\n",
        "    modified_df.columns = [col.lower() for col in modified_df.columns]\n",
        "\n",
        "    return modified_df"
      ],
      "metadata": {
        "id": "rqPZHIxH1-WE"
      },
      "execution_count": 1,
      "outputs": []
    },
    {
      "cell_type": "code",
      "source": [
        "import pandas as pd\n",
        "import numpy as np\n",
        "# Adjust assign_random_availability to include user-defined percentage\n",
        "def generator_availability(power_plants, availability_percentage, seed=None):\n",
        "    if seed is not None:\n",
        "        np.random.seed(seed)  # for reproducibility\n",
        "    # Determine the number of plants to be available based on the percentage\n",
        "    num_available = int(len(power_plants) * availability_percentage / 100)\n",
        "    # Create an array with the specified number of 1s (available) and the rest 0s (unavailable)\n",
        "    availability = np.array([1] * num_available + [0] * (len(power_plants) - num_available))\n",
        "    np.random.shuffle(availability)\n",
        "    power_plants['availability'] = availability"
      ],
      "metadata": {
        "id": "PCrchZcUf-0F"
      },
      "execution_count": 2,
      "outputs": []
    },
    {
      "cell_type": "code",
      "source": [
        "# This function defines the generation_function\n",
        "import pandas as pd\n",
        "import numpy as np\n",
        "\n",
        "def generation_function(peak_demand, demand_profile_24h, renewable_capacity, renewable_costs, solar_capacity_factor_24h, wind_capacity_factor_24h,  voll,  pricing, fossil_power_plants):\n",
        "    \"\"\"\n",
        "    Estimates hourly generation costs, marginal prices, unserved demand, emissions, and calculates total\n",
        "    average costs and emissions over a 24-hour period based on pricing strategy selected (average or marginal).\n",
        "\n",
        "    Parameters:\n",
        "    - peak_demand (float): Estimated peak demand for the period.\n",
        "    - demand_profile_24h (list): Coefficients representing hourly demand profiles.\n",
        "    - capacity (tuple): Capacities for solar, wind, and storage (in that order).\n",
        "    - solar_capacity_factor_24h (list), wind_capacity_factor_24h (list): Hourly capacity factors for solar and wind.\n",
        "    - costs (tuple): Marginal costs for solar, wind, and storage technologies.\n",
        "    - voll (float): Value of Lost Load - cost of unserved electricity demand per unit.\n",
        "    - pricing (str): Pricing strategy to use for the output, \"average\" or \"marginal\".\n",
        "    - fossil_power_plants: This ius the dataset that includes the fixed, variable and emission values for fossil fuel technologies\n",
        "\n",
        "    Returns:\n",
        "    - tuple: Depending on the pricing strategy, returns lists of hourly generation, unserved demand,\n",
        "             and either marginal prices and emissions or average prices and emissions.\n",
        "\n",
        "\n",
        "    \"\"\"\n",
        "\n",
        "    peak_demand = float(peak_demand)\n",
        "\n",
        "    demand_profile_24h = [float(x) for x in demand_profile_24h.split(',')] if isinstance(demand_profile_24h, str) else demand_profile_24h\n",
        "    solar_capacity_factor_24h = [float(x) for x in solar_capacity_factor_24h.split(',')] if isinstance(solar_capacity_factor_24h, str) else solar_capacity_factor_24h\n",
        "    wind_capacity_factor_24h = [float(x) for x in wind_capacity_factor_24h.split(',')] if isinstance(wind_capacity_factor_24h, str) else wind_capacity_factor_24h\n",
        "\n",
        "    # Load oil and gas power plant data and assign availability based on the given percentage\n",
        "    power_plants = fossil_power_plants.copy()\n",
        "\n",
        "    # Select available power plants and sort by variable cost\n",
        "    available_plants = power_plants[power_plants['availability'] == 1]\n",
        "    available_plants = available_plants.sort_values(by='variable_costs')\n",
        "\n",
        "    ## Add renewable capaciies and costs\n",
        "\n",
        "    renewable_capacity = renewable_capacity.split(',')\n",
        "    solar_capacity, wind_capacity, storage_capacity = map(float, renewable_capacity)\n",
        "\n",
        "    renewable_costs = renewable_costs.split(',')\n",
        "    solar_cost, wind_cost, storage_cost = map(float, renewable_costs)\n",
        "\n",
        "\n",
        "    hourly_generation = []\n",
        "    hourly_marginal_price = []\n",
        "    hourly_unserved_demand = []\n",
        "    hourly_emissions = []\n",
        "    total_cost = 0\n",
        "    total_emissions = 0\n",
        "    storage_level = 0\n",
        "    ## This availability is the technical availability of the power plant, it can use this ratio of its nameplate capacity\n",
        "    availability_ratio = 0.9\n",
        "\n",
        "    for hour in range(24):\n",
        "        solar_factor = solar_capacity_factor_24h[hour]\n",
        "        wind_factor = wind_capacity_factor_24h[hour]\n",
        "        demand = peak_demand * demand_profile_24h[hour]\n",
        "        solar_generation = solar_capacity * solar_factor\n",
        "        wind_generation = wind_capacity * wind_factor\n",
        "        renewable_generation = solar_generation + wind_generation\n",
        "\n",
        "        emissions_for_hour = 0\n",
        "        hourly_total_emissions = 0\n",
        "        unserved_demand = 0\n",
        "\n",
        "        if renewable_generation >= demand:\n",
        "            excess_generation = renewable_generation - demand\n",
        "            storage_space_available = storage_capacity - storage_level\n",
        "            storage_level += min(excess_generation, storage_space_available)\n",
        "            generation = demand\n",
        "            marginal_cost = solar_cost if solar_generation >= wind_generation else wind_cost\n",
        "            unserved_demand = 0\n",
        "        else:\n",
        "            generation = renewable_generation\n",
        "            demand -= renewable_generation\n",
        "            marginal_cost = solar_cost if solar_generation >= wind_generation else wind_cost\n",
        "\n",
        "            if storage_level > 0 and demand > 0:\n",
        "                from_storage = min(demand, storage_level)\n",
        "                generation += from_storage\n",
        "                storage_level -= from_storage\n",
        "                demand -= from_storage\n",
        "                marginal_cost = storage_cost\n",
        "\n",
        "            for index, plant in available_plants.iterrows():\n",
        "                if demand <= 0:\n",
        "                    break\n",
        "                plant_generation_available = plant['capacity'] * availability_ratio\n",
        "                if plant_generation_available > demand:\n",
        "                    additional_generation = demand\n",
        "                else:\n",
        "                    additional_generation = plant_generation_available\n",
        "\n",
        "                hourly_total_emissions += plant['emissions'] * additional_generation\n",
        "                total_cost += plant['fixed_costs'] + plant['variable_costs'] * additional_generation\n",
        "                marginal_cost = plant['variable_costs']\n",
        "                demand -= additional_generation\n",
        "                generation += additional_generation\n",
        "                hourly_average_emissions = hourly_total_emissions/generation\n",
        "\n",
        "            if demand > 0:  # If demand is still not met after using all sources\n",
        "                marginal_cost = voll  # Set the marginal cost to VOLL\n",
        "                unserved_demand = demand\n",
        "\n",
        "\n",
        "        hourly_emissions.append(hourly_average_emissions)\n",
        "        total_emissions += hourly_total_emissions\n",
        "        hourly_generation.append(generation)\n",
        "        hourly_marginal_price.append(marginal_cost / 10)\n",
        "        hourly_unserved_demand.append(unserved_demand)\n",
        "\n",
        "\n",
        "\n",
        "    average_price = total_cost / (10 * sum(hourly_generation)) if sum(hourly_generation) > 0 else voll\n",
        "    average_emissions = total_emissions / sum(hourly_generation) if sum(hourly_generation) > 0 else 0\n",
        "\n",
        "    if pricing == \"marginal\":\n",
        "        return hourly_marginal_price, hourly_emissions\n",
        "    elif pricing == \"average\":\n",
        "        return [average_price] * 24, [average_emissions] * 24\n",
        "    else:\n",
        "        raise ValueError(\"Invalid pricing option. Choose 'average' or 'marginal'.\")\n"
      ],
      "metadata": {
        "id": "ibevZuTkz7tB"
      },
      "execution_count": 4,
      "outputs": []
    },
    {
      "cell_type": "code",
      "source": [
        "import numpy as np\n",
        "import pandas as pd\n",
        "from collections import Counter\n",
        "\n",
        "def retail_offer_function(retailers, prices, emissions, time_periods):\n",
        "    \"\"\"\n",
        "    Calculates retail offers for given retailers based on price and emission data over specified time periods.\n",
        "    Determines benchmark prices and retailers.\n",
        "\n",
        "    Args:\n",
        "    retailers (list of tuples): List of (name, share) for each retailer.\n",
        "    prices (list): List of prices over the time period.\n",
        "    emissions (list): List of emissions over the same period.\n",
        "    time_periods (list of tuples): List of (start, end) indices defining each time period.\n",
        "\n",
        "    Returns:\n",
        "    DataFrame: Contains offers, benchmark prices, and benchmark retailer information for each retailer.\n",
        "    \"\"\"\n",
        "\n",
        "    def calculate_period_averages():\n",
        "        \"\"\"Calculate average price and emissions for each time period.\"\"\"\n",
        "        return [(np.mean(prices[start:end+1]), np.mean(emissions[start:end+1])) for start, end in time_periods]\n",
        "\n",
        "    def generate_offers(period_averages):\n",
        "        \"\"\"Generate offers for each retailer based on their share and period averages.\"\"\"\n",
        "        offers = []\n",
        "        for name, share in retailers:\n",
        "            markup = 1 + (share / (1 + share)) if share > 0 else None\n",
        "            offers.append([(p * markup, e) if markup else (None, None) for p, e in period_averages])\n",
        "        return offers\n",
        "\n",
        "    def find_benchmark_prices(offers):\n",
        "        \"\"\"Find the minimum price for each period among all offers.\"\"\"\n",
        "        return [min((offer[idx][0] for offer in offers if offer[idx][0] is not None), default=None) for idx in range(len(time_periods))]\n",
        "\n",
        "    def find_benchmark_retailers(offers, benchmark_prices):\n",
        "        \"\"\"Determine the benchmark retailer for each period based on the benchmark price.\"\"\"\n",
        "        benchmark_retailer_names = []\n",
        "        for idx, bp in enumerate(benchmark_prices):\n",
        "            period_benchmark_retailers = [retailers[i][0] for i, offer in enumerate(offers) if offer[idx][0] is not None and offer[idx][0] == bp]\n",
        "            benchmark_retailer_names.append(\", \".join(period_benchmark_retailers) if period_benchmark_retailers else \"No active benchmarks\")\n",
        "        return max(set(benchmark_retailer_names), key=benchmark_retailer_names.count)\n",
        "\n",
        "    period_averages = calculate_period_averages()\n",
        "    retailer_offers = generate_offers(period_averages)\n",
        "    benchmark_prices = find_benchmark_prices(retailer_offers)\n",
        "    benchmark_retailer = find_benchmark_retailers(retailer_offers, benchmark_prices)\n",
        "\n",
        "    # Formatting the DataFrame\n",
        "    data = {\n",
        "        \"Retail Firm\": [retail[0] for retail in retailers],\n",
        "        \"Retail Price Offer\": [[np.round(p, 2) if p is not None else \"Out of business\" for p, e in offers] for offers in retailer_offers],\n",
        "        \"Emission\": [[np.round(e, 2) if p is not None else \"Out of business\" for p, e in offers] for offers in retailer_offers],\n",
        "        \"Benchmark Offer\": [[np.round(bp, 2) if bp is not None else None for bp in benchmark_prices] for _ in retailers]  # Replicate benchmark prices across all rows\n",
        "    }\n",
        "    df = pd.DataFrame(data)\n",
        "    df['Benchmark Retail Firm'] = benchmark_retailer  # Uniform benchmark retailer(s) across all rows\n",
        "\n",
        "    return df"
      ],
      "metadata": {
        "id": "gB-3i0dxwIvW"
      },
      "execution_count": 6,
      "outputs": []
    },
    {
      "cell_type": "code",
      "source": [
        "## Function to create initial household dataset for analysis; then no need to create one\n",
        "## Do not forget to change values for energy demand and energy generation profiles\n",
        "\n",
        "import numpy as np\n",
        "import pandas as pd\n",
        "\n",
        "def generate_weights(household_type):\n",
        "    \"\"\"\n",
        "    Generates financial and carbon weights for a given household type.\n",
        "\n",
        "    Parameters:\n",
        "    - household_type (str): The type of the household (Small, Medium, Large).\n",
        "\n",
        "    Returns:\n",
        "    - tuple: (financial_weight, carbon_weight) where both sum to 1.\n",
        "    \"\"\"\n",
        "    if household_type == 'Small':\n",
        "        financial_weight = np.random.uniform(0.9, 1)\n",
        "    elif household_type == 'Medium':\n",
        "        financial_weight = np.random.uniform(0.7, 1)\n",
        "    else:  # Large\n",
        "        financial_weight = np.random.uniform(0.6, 1)\n",
        "\n",
        "    carbon_weight = 1 - financial_weight\n",
        "    return np.round(financial_weight, 2), np.round(carbon_weight, 2)\n",
        "\n",
        "def create_household_dataset(N, seed=42, retailers_info=[(\"Retail A\", 0.34), (\"Retail B\", 0.34), (\"Retail C\", 0.32)]):\n",
        "    \"\"\"\n",
        "    Creates a dataset of households with detailed energy consumption profiles,\n",
        "    solar PV capacity, and retailer assignments based on specified market shares.\n",
        "\n",
        "    Parameters:\n",
        "    - N (int): Number of households to generate.\n",
        "    - seed (int): Seed for the random number generator for reproducibility.\n",
        "    - retailers_info (list of tuples): A list where each tuple contains a retailer's name\n",
        "      and their market share (e.g., [(\"Retail A\", 0.45), (\"Retail B\", 0.3), ...]).\n",
        "\n",
        "    Returns:\n",
        "    - DataFrame: A pandas DataFrame containing the household dataset with their energy profiles,\n",
        "      solar PV capacities, financial and carbon weights, initial retailer assignment, and default bias.\n",
        "    \"\"\"\n",
        "    np.random.seed(seed)\n",
        "\n",
        "    household_types = ['Small', 'Medium', 'Large']\n",
        "    proportions = [0.4, 0.4, 0.2]\n",
        "    base_consumption = {'Small': 1500, 'Medium': 3000, 'Large': 6000}\n",
        "    std_deviation = {'Small': 200, 'Medium': 300, 'Large': 500}\n",
        "    pv_capacity = {'Small': (0, 0), 'Medium': (0, 0), 'Large': (1000, 100)}\n",
        "\n",
        "    retailers, market_shares = zip(*retailers_info)\n",
        "\n",
        "    ## Correct thes econsumption patterns\n",
        "\n",
        "    demand_profile_winter = np.array([0.111, 0.108, 0.112, 0.119, 0.126, 0.122])\n",
        "    demand_profile_summer = np.array([0.213, 0.202, 0.217, 0.231, 0.223, 0.215])\n",
        "    solar_pv_profile_winter = np.array([0.0,0.168,0.677,0.423,0.003,0.0])\n",
        "    solar_pv_profile_summer = np.array([0.0,0.185,0.628,0.423,0.008,0.0])\n",
        "\n",
        "    households = np.random.choice(household_types, size=N, p=proportions)\n",
        "    retail_assignments = np.random.choice(retailers, size=N, p=market_shares)\n",
        "    consumption_data = []\n",
        "\n",
        "    for idx, household in enumerate(households):\n",
        "        financial_weight, carbon_weight = generate_weights(household)\n",
        "        base = np.random.normal(base_consumption[household], std_deviation[household])\n",
        "        base = np.round(base, 2)  # Round base consumption\n",
        "\n",
        "        mean_pv, std_pv = pv_capacity[household]\n",
        "        solar_pv_capacity = np.round(np.random.normal(mean_pv, std_pv), 2) if std_pv > 0 else 0\n",
        "        default_bias = np.round(np.random.uniform(0.05, 0.4), 2)  # Generate default bias\n",
        "\n",
        "        consumption_winter = np.round(demand_profile_winter * base, 2)\n",
        "        consumption_summer = np.round(demand_profile_summer * base, 2)\n",
        "        solar_pv_production_winter = np.round(solar_pv_capacity * solar_pv_profile_winter, 2) if solar_pv_capacity else np.zeros(6)\n",
        "        solar_pv_production_summer = np.round(solar_pv_capacity * solar_pv_profile_summer, 2) if solar_pv_capacity else np.zeros(6)\n",
        "\n",
        "        preferred_consumption_winter = np.round([max(0, c - pv) for c, pv in zip(consumption_winter, solar_pv_production_winter)], 2)\n",
        "        preferred_consumption_summer = np.round([max(0, c - pv) for c, pv in zip(consumption_summer, solar_pv_production_summer)], 2)\n",
        "\n",
        "        consumption_data.append([\n",
        "            idx + 1, household, base, solar_pv_capacity, financial_weight, carbon_weight,\n",
        "            consumption_winter, consumption_summer, preferred_consumption_winter, preferred_consumption_summer,\n",
        "            solar_pv_production_winter, solar_pv_production_summer, retail_assignments[idx], default_bias\n",
        "        ])\n",
        "\n",
        "    columns = [\n",
        "        'Household ID', 'Household Type', 'Base Consumption', 'Solar PV Capacity', 'Financial Weight', 'Carbon Weight',\n",
        "        'Winter Gross', 'Summer Gross', 'Winter Preferred', 'Summer Preferred',\n",
        "        'Solar PV Production Winter', 'Solar PV Production Summer', 'Retail Firm', 'Default Bias'\n",
        "    ]\n",
        "    df = pd.DataFrame(consumption_data, columns=columns)\n",
        "    return df\n"
      ],
      "metadata": {
        "id": "1wLFU0Jn75ps"
      },
      "execution_count": 7,
      "outputs": []
    },
    {
      "cell_type": "code",
      "source": [
        "## Correcting merge function\n",
        "\n",
        "import pandas as pd\n",
        "\n",
        "def merge_function(household_data, price_emission_data):\n",
        "    # Ensure the 'Retail Firm' columns in both DataFrames are of type string\n",
        "    household_data['Retail Firm'] = household_data['Retail Firm'].astype(str)\n",
        "    price_emission_data['Retail Firm'] = price_emission_data['Retail Firm'].astype(str)\n",
        "\n",
        "    # Merge household data with price_emission_data based on 'Retail Firm' for current offers\n",
        "    current_data = pd.merge(household_data, price_emission_data, on='Retail Firm')\n",
        "\n",
        "    return current_data\n",
        "\n",
        "# Usage example, ensure you have 'household_data' and 'price_emission_data' DataFrames ready to use:\n",
        "# merged_df = merge_function(household_data, price_emission_data)\n",
        "# print(merged_df)\n"
      ],
      "metadata": {
        "id": "sn-9UElNul14"
      },
      "execution_count": 8,
      "outputs": []
    },
    {
      "cell_type": "code",
      "source": [
        "## Household function to minimize costs\n",
        "\n",
        "import pandas as pd\n",
        "from scipy.optimize import minimize\n",
        "\n",
        "def optimize_consumption(data, season):\n",
        "    # Determine the preferred consumption column based on season\n",
        "    if season == 'summer':\n",
        "        preferred_key = 'Summer Preferred'\n",
        "    else:\n",
        "        preferred_key = 'Winter Preferred'\n",
        "\n",
        "    # Prepare columns for results in the original DataFrame\n",
        "    data['Current Optimal Consumption'] = pd.Series(dtype=object)\n",
        "    data['Current Total Consumption'] = pd.Series(dtype=float)\n",
        "    data['Current Cost'] = pd.Series(dtype=float)\n",
        "    data['Benchmark Optimal Consumption'] = pd.Series(dtype=object)\n",
        "    data['Benchmark Total Consumption'] = pd.Series(dtype=float)\n",
        "    data['Benchmark Cost'] = pd.Series(dtype=float)\n",
        "\n",
        "    # Iterate through each row in the dataset\n",
        "    for index, row in data.iterrows():\n",
        "        preferred_consumption = row[preferred_key]\n",
        "        current_offer = row['Retail Price Offer']\n",
        "        benchmark_offer = row['Benchmark Offer']\n",
        "        emissions = row['Emission']\n",
        "        financial_weight = row['Financial Weight']\n",
        "        carbon_weight = row['Carbon Weight']\n",
        "        retail_firm = row['Retail Firm']  # Extract the Retail Firm\n",
        "\n",
        "        # Function to perform optimization\n",
        "        def perform_optimization(price_offer):\n",
        "            # Normalize price\n",
        "            max_price = max(price_offer)\n",
        "            normalized_price = [p / max_price for p in price_offer]\n",
        "\n",
        "            # Normalize emissions\n",
        "            max_emission = max(emissions)\n",
        "            normalized_emission = [e / max_emission for e in emissions]\n",
        "\n",
        "            # Define the objective function\n",
        "            def objective(consumption):\n",
        "                financial_cost = sum(p * c for p, c in zip(normalized_price, consumption))\n",
        "                carbon_cost = sum(e * c for e, c in zip(normalized_emission, consumption))\n",
        "                return financial_weight * financial_cost + carbon_weight * carbon_cost\n",
        "\n",
        "            # Bounds for each period's consumption\n",
        "            bounds = [(0.9 * pref, 1.2 * pref) for pref in preferred_consumption]\n",
        "\n",
        "            # Initial guess (starting from the preferred consumption)\n",
        "            initial_guess = preferred_consumption\n",
        "\n",
        "            # Perform optimization\n",
        "            return minimize(objective, initial_guess, bounds=bounds, method='SLSQP')\n",
        "\n",
        "        # Optimize current scenario\n",
        "        current_result = perform_optimization(current_offer)\n",
        "        optimal_current_consumption = current_result.x\n",
        "        total_current_consumption = sum(optimal_current_consumption)\n",
        "        current_cost = sum(p * c for p, c in zip(current_offer, optimal_current_consumption))\n",
        "\n",
        "        # Optimize benchmark scenario\n",
        "        benchmark_result = perform_optimization(benchmark_offer)\n",
        "        optimal_benchmark_consumption = benchmark_result.x\n",
        "        total_benchmark_consumption = sum(optimal_benchmark_consumption)\n",
        "        benchmark_cost = sum(p * c for p, c in zip(benchmark_offer, optimal_benchmark_consumption))\n",
        "\n",
        "        # Add results to the original DataFrame\n",
        "        data.at[index, 'Retail Firm'] = retail_firm\n",
        "        data.at[index, 'Current Optimal Consumption'] = [round(num, 2) for num in optimal_current_consumption]\n",
        "        data.at[index, 'Current Total Consumption'] = round(total_current_consumption, 2)\n",
        "        data.at[index, 'Current Cost'] = round(current_cost, 2)\n",
        "        data.at[index, 'Benchmark Optimal Consumption'] = [round(num, 2) for num in optimal_benchmark_consumption]\n",
        "        data.at[index, 'Benchmark Total Consumption'] = round(total_benchmark_consumption, 2)\n",
        "        data.at[index, 'Benchmark Cost'] = round(benchmark_cost, 2)\n",
        "\n",
        "    return data\n"
      ],
      "metadata": {
        "id": "EO1rQGoyztJr"
      },
      "execution_count": 9,
      "outputs": []
    },
    {
      "cell_type": "code",
      "source": [
        "def calculate_market_share(optimized_data):\n",
        "    # Sum the 'Current Total Consumption' for each 'Retail Firm'\n",
        "    total_consumption_by_firm = optimized_data.groupby('Retail Firm')['Current Total Consumption'].sum()\n",
        "\n",
        "    # Calculate the total consumption in the market\n",
        "    total_market_consumption = total_consumption_by_firm.sum()\n",
        "\n",
        "    # Calculate the market share for each firm, rounded to three decimal places\n",
        "    market_shares = (total_consumption_by_firm / total_market_consumption).round(3).reset_index()\n",
        "    market_shares.columns = ['Retail Firm', 'Market Share']\n",
        "\n",
        "    # Convert DataFrame to list of tuples\n",
        "    market_share_tuples = list(market_shares.itertuples(index=False, name=None))\n",
        "\n",
        "    return market_share_tuples\n"
      ],
      "metadata": {
        "id": "eEHOg4zoJ8bT"
      },
      "execution_count": 10,
      "outputs": []
    },
    {
      "cell_type": "code",
      "source": [
        "def switch_decision(data):\n",
        "    # Define the columns to return\n",
        "    columns_to_return = [\n",
        "        'Household ID', 'Household Type','Default Bias', 'Base Consumption', 'Solar PV Capacity', 'Financial Weight', 'Carbon Weight',\n",
        "        'Winter Gross', 'Summer Gross', 'Winter Preferred', 'Summer Preferred',\n",
        "        'Solar PV Production Winter', 'Solar PV Production Summer', 'Retail Firm'\n",
        "    ]\n",
        "\n",
        "    # Iterate over each row in the DataFrame\n",
        "    for index, row in data.iterrows():\n",
        "        # Calculate if the Current Cost is more than 30% higher than the Benchmark Cost\n",
        "        if row['Current Cost'] > ((1 + row['Default Bias']) * row['Benchmark Cost']):\n",
        "            # Update the Retail Firm to the Benchmark Retail Firm\n",
        "            data.at[index, 'Retail Firm'] = row['Benchmark Retail Firm']\n",
        "        # If not, the Retail Firm remains the same (no action needed)\n",
        "\n",
        "    # Return only the specified columns\n",
        "    return data[columns_to_return]\n"
      ],
      "metadata": {
        "id": "ZvMCi-qnM2R5"
      },
      "execution_count": 11,
      "outputs": []
    },
    {
      "cell_type": "markdown",
      "source": [
        "**Application of these functions and model results**\n",
        "\n"
      ],
      "metadata": {
        "id": "We68N9nbxBvJ"
      }
    },
    {
      "cell_type": "markdown",
      "source": [
        " First Stage: Using generation value"
      ],
      "metadata": {
        "id": "XqHiFvXrxNk6"
      }
    },
    {
      "cell_type": "code",
      "source": [
        "## Upload power plant capacity from github and generate random values\n",
        "import pandas as pd\n",
        "import numpy as np\n",
        "\n",
        "gen_url = 'https://raw.githubusercontent.com/smuratsirin/Retail_Market_Analysis/main/sa_power_plant_data.csv'\n",
        "fossil_generator_data = pd.read_csv(gen_url)\n",
        "\n",
        "# Columns to randomize\n",
        "columns_to_randomize = ['Fixed_Costs', 'Variable_Costs', 'Emissions']\n",
        "# Apply the function and set seed to 42 for replication\n",
        "fossil_generator_data = randomize_costs_and_emissions(fossil_generator_data,\n",
        "                                                      columns_to_randomize,\n",
        "                                                      seed = 42)\n",
        "print(fossil_generator_data.head())"
      ],
      "metadata": {
        "colab": {
          "base_uri": "https://localhost:8080/"
        },
        "id": "4-_10MfNySul",
        "outputId": "14e7f664-a2c1-4d64-995d-12d60099c149"
      },
      "execution_count": 12,
      "outputs": [
        {
          "output_type": "stream",
          "name": "stdout",
          "text": [
            "      name  capacity type  fixed_costs  variable_costs  emissions\n",
            "0  Plant 1    162.00  Gas    14.247241       27.731788   0.326524\n",
            "1  Plant 2    263.40  Oil    29.507143       41.853300   0.725450\n",
            "2  Plant 3    348.00  Oil    27.319939       49.132911   0.749718\n",
            "3  Plant 4    532.70  Oil    25.986585       47.476034   0.564645\n",
            "4  Plant 5     81.03  Oil    21.560186       51.969829   0.703386\n"
          ]
        }
      ]
    },
    {
      "cell_type": "code",
      "source": [
        "## Now assign availability to these technologies\n",
        "## By assigning availability this creates variation in the data\n",
        "availability = 85 ## This value shoudl be percentage\n",
        "generator_availability(fossil_generator_data, availability)\n",
        "print(fossil_generator_data.head())\n"
      ],
      "metadata": {
        "colab": {
          "base_uri": "https://localhost:8080/"
        },
        "id": "3YqdMmEA5FLK",
        "outputId": "f6f2819c-1c1b-4013-fedb-0d30af9bcfeb"
      },
      "execution_count": 13,
      "outputs": [
        {
          "output_type": "stream",
          "name": "stdout",
          "text": [
            "      name  capacity type  fixed_costs  variable_costs  emissions  \\\n",
            "0  Plant 1    162.00  Gas    14.247241       27.731788   0.326524   \n",
            "1  Plant 2    263.40  Oil    29.507143       41.853300   0.725450   \n",
            "2  Plant 3    348.00  Oil    27.319939       49.132911   0.749718   \n",
            "3  Plant 4    532.70  Oil    25.986585       47.476034   0.564645   \n",
            "4  Plant 5     81.03  Oil    21.560186       51.969829   0.703386   \n",
            "\n",
            "   availability  \n",
            "0             0  \n",
            "1             1  \n",
            "2             1  \n",
            "3             1  \n",
            "4             0  \n"
          ]
        }
      ]
    },
    {
      "cell_type": "code",
      "source": [
        "## Upload demand profile and renewable energy data from Github\n",
        "demand_url = 'https://raw.githubusercontent.com/smuratsirin/Retail_Market_Analysis/main/demand_and_renewable_data.csv'\n",
        "demand_data = pd.read_csv(demand_url)\n",
        "print(demand_data.head())\n"
      ],
      "metadata": {
        "colab": {
          "base_uri": "https://localhost:8080/"
        },
        "id": "UbD9zreY3qtI",
        "outputId": "af404649-62a7-47bb-e53f-35c7f13d39ee"
      },
      "execution_count": 14,
      "outputs": [
        {
          "output_type": "stream",
          "name": "stdout",
          "text": [
            "   Season  Month  peak_demand  \\\n",
            "0  Winter      1        35600   \n",
            "1  Winter      2        35600   \n",
            "2  Winter      3        40000   \n",
            "3  Winter      4        50000   \n",
            "4  Summer      5        55000   \n",
            "\n",
            "                                      demand_profile installed_capacity  \\\n",
            "0  0.91,0.90,0.89,0.86,0.86,0.86,0.86,0.86,0.89,0...              0,0,0   \n",
            "1  0.91, 0.90, 0.89, 0.86, 0.86, 0.86, 0.86, 0.86...              0,0,0   \n",
            "2  0.91, 0.90, 0.89, 0.86, 0.86, 0.86, 0.86, 0.86...              0,0,0   \n",
            "3  0.91, 0.90, 0.89, 0.86, 0.86, 0.86, 0.86, 0.86...              0,0,0   \n",
            "4  0.92, 0.91, 0.91, 0.88, 0.88, 0.86, 0.86, 0.86...              0,0,0   \n",
            "\n",
            "                           solar_capacity_factor_24h  \\\n",
            "0  0.0,0.0,0.0,0.0,0.0,0.0,0.0,0.18,0.41,0.58,0.6...   \n",
            "1  0.0,0.0,0.0,0.0,0.0,0.0,0.03,0.25,0.46,0.62,0....   \n",
            "2  0.0,0.0,0.0,0.0,0.0,0.0,0.06,0.28,0.47,0.61,0....   \n",
            "3  0.0,0.0,0.0,0.0,0.0,0.0,0.07,0.24,0.41,0.55,0....   \n",
            "4  0.0,0.0,0.0,0.0,0.0,0.01,0.08,0.23,0.39,0.52,0...   \n",
            "\n",
            "                          wind_capacity_factor_24h  costs  voll  \n",
            "0  0,0,0,0,0,0,0,0,0,0,0,0,0,0,0,0,0,0,0,0,0,0,0,0  0,0,0    15  \n",
            "1  0,0,0,0,0,0,0,0,0,0,0,0,0,0,0,0,0,0,0,0,0,0,0,0  0,0,0    15  \n",
            "2  0,0,0,0,0,0,0,0,0,0,0,0,0,0,0,0,0,0,0,0,0,0,0,0  0,0,0    15  \n",
            "3  0,0,0,0,0,0,0,0,0,0,0,0,0,0,0,0,0,0,0,0,0,0,0,0  0,0,0    15  \n",
            "4  0,0,0,0,0,0,0,0,0,0,0,0,0,0,0,0,0,0,0,0,0,0,0,0  0,0,0    15  \n"
          ]
        }
      ]
    },
    {
      "cell_type": "code",
      "source": [
        "# This function defines the generation_function\n",
        "import pandas as pd\n",
        "import numpy as np\n",
        "\n",
        "period = 3\n",
        "gen_row = demand_data.iloc[period]\n",
        "peak_dem = gen_row['peak_demand']\n",
        "demand_prof_24h = gen_row['demand_profile']\n",
        "renewable_capacity = gen_row['installed_capacity']\n",
        "solar_cap_fac_24h = gen_row['solar_capacity_factor_24h']\n",
        "wind_cap_fac_24h = gen_row['wind_capacity_factor_24h']\n",
        "renewable_costs = gen_row['costs']\n",
        "voll = 75\n",
        "\n",
        "prices, emissions = generation_function(pricing = \"marginal\",\n",
        "                                        peak_demand = peak_dem,\n",
        "                                        demand_profile_24h = demand_prof_24h,\n",
        "                                        renewable_capacity = renewable_capacity,\n",
        "                                        solar_capacity_factor_24h = solar_cap_fac_24h,\n",
        "                                        wind_capacity_factor_24h = wind_cap_fac_24h,\n",
        "                                        renewable_costs = renewable_costs,\n",
        "                                        voll = voll,\n",
        "                                        fossil_power_plants = fossil_generator_data)\n",
        "\n",
        "print(prices)\n",
        "print(emissions)\n"
      ],
      "metadata": {
        "colab": {
          "base_uri": "https://localhost:8080/"
        },
        "id": "us-dzWHq7CDR",
        "outputId": "4e2525d0-8ef6-4638-c2a6-0f65a37683b8"
      },
      "execution_count": 18,
      "outputs": [
        {
          "output_type": "stream",
          "name": "stdout",
          "text": [
            "[4.3386892614641335, 4.3386892614641335, 4.177404116949125, 4.112712889879441, 4.112712889879441, 4.112712889879441, 4.112712889879441, 4.112712889879441, 4.177404116949125, 4.3386892614641335, 4.488832073455903, 4.488832073455903, 4.504822241811951, 4.504822241811951, 4.504822241811951, 4.504822241811951, 4.504822241811951, 4.504822241811951, 4.504822241811951, 4.504822241811951, 4.504822241811951, 4.504822241811951, 4.504822241811951, 4.488832073455903]\n",
            "[0.5310776577437846, 0.5304666453299861, 0.5289327555385052, 0.5220046585802697, 0.5220046585802697, 0.5220046585802697, 0.5220046585802697, 0.5220046585802697, 0.5289327555385052, 0.5310776577437846, 0.5358954292823578, 0.5358954292823578, 0.5404640563311999, 0.5404640563311999, 0.5404640563311999, 0.5404640563311999, 0.5404640563311999, 0.5452722862233476, 0.5452722862233476, 0.5452722862233476, 0.5404640563311999, 0.5404640563311999, 0.5404640563311999, 0.5358954292823578]\n"
          ]
        }
      ]
    },
    {
      "cell_type": "code",
      "source": [
        "## This code creates generation results\n",
        "import numpy as np\n",
        "import pandas as pd\n",
        "\n",
        "## Set a random seed for reproducibility of results\n",
        "np.random.seed(42)\n",
        "generation_info = pd.read_excel('/content/KAPSARC_Model_Generation.xlsx')\n",
        "\n",
        "\n",
        "# Initialize a list to store results\n",
        "generation_results = []\n",
        "\n",
        "# Loop through 12 periods to simulate annual market behavior\n",
        "for period in range(0, 12):\n",
        "    print(f\"Processing Period: {period}\")\n",
        "\n",
        "    gen_row = generation_info.iloc[period]\n",
        "    gen_peak_dem = gen_row['peak_demand']\n",
        "    gen_demand_prof_24h = gen_row['demand_profile']\n",
        "    gen_capacity = gen_row['installed_capacity']\n",
        "    solar_cap_fac_24h = gen_row['solar_capacity_factor_24h']\n",
        "    wind_cap_fac_24h = gen_row['wind_capacity_factor_24h']\n",
        "    gen_costs = gen_row['costs']\n",
        "    gen_voll = gen_row['voll']\n",
        "\n",
        "    ## Include generation function\n",
        "    ## Simulate generation data (prices and emissions) for each hour\n",
        "    ## Set Pricing\n",
        "    prices, emissions = generation_function(pricing = \"average\",\n",
        "                                            peak_demand = gen_peak_dem,\n",
        "                                            demand_profile_24h = gen_demand_prof_24h,\n",
        "                                            capacity = gen_capacity,\n",
        "                                            solar_capacity_factor_24h = solar_cap_fac_24h,\n",
        "                                            wind_capacity_factor_24h = wind_cap_fac_24h,\n",
        "                                            costs = gen_costs,\n",
        "                                            voll = gen_voll)\n",
        "\n",
        "    generation_results.append([period, prices, emissions])\n",
        "\n",
        "# Convert the list of results into a DataFrame\n",
        "generation_results_df = pd.DataFrame(generation_results, columns=['Period', 'Prices', 'Emissions'])\n",
        "\n",
        "# Print the results DataFrame\n",
        "print(generation_results_df)\n"
      ],
      "metadata": {
        "colab": {
          "base_uri": "https://localhost:8080/"
        },
        "id": "_V5SfdaF402n",
        "outputId": "07758b80-d11f-4cd5-e96b-05f5ab1057fb"
      },
      "execution_count": null,
      "outputs": [
        {
          "output_type": "stream",
          "name": "stdout",
          "text": [
            "Processing Period: 0\n",
            "Processing Period: 1\n",
            "Processing Period: 2\n",
            "Processing Period: 3\n",
            "Processing Period: 4\n",
            "Processing Period: 5\n",
            "Processing Period: 6\n",
            "Processing Period: 7\n",
            "Processing Period: 8\n",
            "Processing Period: 9\n",
            "Processing Period: 10\n",
            "Processing Period: 11\n",
            "    Period                                             Prices  \\\n",
            "0        0  [10.0, 10.0, 10.0, 10.0, 10.0, 10.0, 10.0, 10....   \n",
            "1        1  [10.0, 10.0, 10.0, 10.0, 10.0, 10.0, 10.0, 10....   \n",
            "2        2  [9.97, 9.97, 9.97, 9.97, 9.97, 9.97, 9.97, 9.9...   \n",
            "3        3  [9.626, 9.626, 9.626, 9.626, 9.626, 9.626, 9.6...   \n",
            "4        4  [9.492, 9.492, 9.492, 9.492, 9.492, 9.492, 9.4...   \n",
            "5        5  [9.263, 9.263, 9.263, 9.263, 9.263, 9.263, 9.2...   \n",
            "6        6  [9.368, 9.368, 9.368, 9.368, 9.368, 9.368, 9.3...   \n",
            "7        7  [9.263, 9.263, 9.263, 9.263, 9.263, 9.263, 9.2...   \n",
            "8        8  [9.368, 9.368, 9.368, 9.368, 9.368, 9.368, 9.3...   \n",
            "9        9  [9.642, 9.642, 9.642, 9.642, 9.642, 9.642, 9.6...   \n",
            "10      10  [9.97, 9.97, 9.97, 9.97, 9.97, 9.97, 9.97, 9.9...   \n",
            "11      11  [9.999, 9.999, 9.999, 9.999, 9.999, 9.999, 9.9...   \n",
            "\n",
            "                                            Emissions  \n",
            "0   [2.0, 2.0, 2.0, 2.0, 2.0, 2.0, 2.0, 2.0, 2.0, ...  \n",
            "1   [2.0, 2.0, 2.0, 2.0, 2.0, 2.0, 2.0, 2.0, 2.0, ...  \n",
            "2   [2.045, 2.045, 2.045, 2.045, 2.045, 2.045, 2.0...  \n",
            "3   [2.561, 2.561, 2.561, 2.561, 2.561, 2.561, 2.5...  \n",
            "4   [2.761, 2.761, 2.761, 2.761, 2.761, 2.761, 2.7...  \n",
            "5   [3.106, 3.106, 3.106, 3.106, 3.106, 3.106, 3.1...  \n",
            "6   [2.948, 2.948, 2.948, 2.948, 2.948, 2.948, 2.9...  \n",
            "7   [3.106, 3.106, 3.106, 3.106, 3.106, 3.106, 3.1...  \n",
            "8   [2.948, 2.948, 2.948, 2.948, 2.948, 2.948, 2.9...  \n",
            "9   [2.538, 2.538, 2.538, 2.538, 2.538, 2.538, 2.5...  \n",
            "10  [2.045, 2.045, 2.045, 2.045, 2.045, 2.045, 2.0...  \n",
            "11  [2.001, 2.001, 2.001, 2.001, 2.001, 2.001, 2.0...  \n"
          ]
        }
      ]
    },
    {
      "cell_type": "code",
      "source": [
        "\n",
        "import numpy as np\n",
        "import pandas as pd\n",
        "\n",
        "## Set a random seed for reproducibility of results\n",
        "np.random.seed(42)\n",
        "\n",
        "## Define time-related and retailer variables\n",
        "hours = 24\n",
        "time_periods = [(0, 4), (4, 8), (8, 12), (12, 16), (16, 20), (20, 24)]\n",
        "retailers = [(\"Retail A\", 0.34), (\"Retail B\", 0.34), (\"Retail C\", 0.32)]\n",
        "gen_period = 3\n",
        "gen_row = generation_results_df.iloc[gen_period]\n",
        "\n",
        "prices =  gen_row['Prices']\n",
        "emissions = gen_row['Emissions']\n",
        "\n",
        "offer_df = retail_offer_function(retailers, prices, emissions, time_periods)\n",
        "print(offer_df)"
      ],
      "metadata": {
        "colab": {
          "base_uri": "https://localhost:8080/"
        },
        "id": "oZ6_mp8w7TYE",
        "outputId": "7c70fd08-c508-41b5-864a-154755a4f756"
      },
      "execution_count": null,
      "outputs": [
        {
          "output_type": "stream",
          "name": "stdout",
          "text": [
            "  Retail Firm                          Retail Price Offer  \\\n",
            "0    Retail A  [12.07, 12.07, 12.07, 12.07, 12.07, 12.07]   \n",
            "1    Retail B  [12.07, 12.07, 12.07, 12.07, 12.07, 12.07]   \n",
            "2    Retail C  [11.96, 11.96, 11.96, 11.96, 11.96, 11.96]   \n",
            "\n",
            "                               Emission  \\\n",
            "0  [2.56, 2.56, 2.56, 2.56, 2.56, 2.56]   \n",
            "1  [2.56, 2.56, 2.56, 2.56, 2.56, 2.56]   \n",
            "2  [2.56, 2.56, 2.56, 2.56, 2.56, 2.56]   \n",
            "\n",
            "                              Benchmark Offer Benchmark Retail Firm  \n",
            "0  [11.96, 11.96, 11.96, 11.96, 11.96, 11.96]              Retail C  \n",
            "1  [11.96, 11.96, 11.96, 11.96, 11.96, 11.96]              Retail C  \n",
            "2  [11.96, 11.96, 11.96, 11.96, 11.96, 11.96]              Retail C  \n"
          ]
        }
      ]
    },
    {
      "cell_type": "code",
      "source": [
        "## Import necessary libraries\n",
        "import numpy as np\n",
        "import pandas as pd\n",
        "\n",
        "## Set a random seed for reproducibility of results\n",
        "np.random.seed(42)\n",
        "\n",
        "## Define time-related and retailer variables\n",
        "hours = 24\n",
        "time_periods = [(0, 4), (4, 8), (8, 12), (12, 16), (16, 20), (20, 24)]\n",
        "retailers = [(\"Retail A\", 0.34), (\"Retail B\", 0.34), (\"Retail C\", 0.32)]\n",
        "\n",
        "## Generate initial household dataset\n",
        "household_df = create_household_dataset(N=100, seed=42, retailers_info=retailers)\n",
        "\n",
        "# Loop through 12 periods to simulate annual market behavior\n",
        "for period in range(1, 13):\n",
        "    print(f\"Processing Period: {period}\")\n",
        "\n",
        "    gen_period = period - 1\n",
        "    gen_row = generation_results_df.iloc[gen_period]\n",
        "\n",
        "    prices =  gen_row['Prices']\n",
        "    emissions = gen_row['Emissions']\n",
        "\n",
        "    ## Retrieve offer values from retailers based on the simulated data\n",
        "    offer_df = retail_offer_function(retailers, prices, emissions, time_periods)\n",
        "\n",
        "    ## Merge household data with offer data\n",
        "    merged_df = merge_function(household_data=household_df, price_emission_data=offer_df)\n",
        "\n",
        "    ## Determine the season based on the period number\n",
        "    if period in [5, 6, 7, 8, 9, 10]:\n",
        "        season = \"summer\"\n",
        "    else:\n",
        "        season = \"winter\"\n",
        "\n",
        "    ## Run the optimization algorithm for the current period and season\n",
        "    period_result = optimize_consumption(merged_df, season=season)\n",
        "    period_result['Period'] = period\n",
        "    period_result['Season'] = season\n",
        "\n",
        "    ## Save the results to CSV for future analysis\n",
        "    file_name = f\"Output_Period_{period}.csv\"\n",
        "    period_result.to_csv(file_name, index=False)\n",
        "\n",
        "    ## Calculate market share based on current period results and update for future use\n",
        "    retailers = calculate_market_share(period_result)\n",
        "\n",
        "    ## Update household data based on switching decisions\n",
        "    household_df = switch_decision(period_result)\n",
        "\n",
        "    print(f\"Completed Period: {period}\")\n",
        "\n",
        "print(\"All periods processed and results saved.\")\n",
        "\n"
      ],
      "metadata": {
        "colab": {
          "base_uri": "https://localhost:8080/"
        },
        "id": "6rWap4jed2lt",
        "outputId": "d2ef8bbf-9f25-4e38-e5bc-a569aba6e9d8"
      },
      "execution_count": null,
      "outputs": [
        {
          "output_type": "stream",
          "name": "stdout",
          "text": [
            "Processing Period: 1\n",
            "Completed Period: 1\n",
            "Processing Period: 2\n"
          ]
        },
        {
          "output_type": "stream",
          "name": "stderr",
          "text": [
            "<ipython-input-5-8986345cd16e>:7: SettingWithCopyWarning: \n",
            "A value is trying to be set on a copy of a slice from a DataFrame.\n",
            "Try using .loc[row_indexer,col_indexer] = value instead\n",
            "\n",
            "See the caveats in the documentation: https://pandas.pydata.org/pandas-docs/stable/user_guide/indexing.html#returning-a-view-versus-a-copy\n",
            "  household_data['Retail Firm'] = household_data['Retail Firm'].astype(str)\n"
          ]
        },
        {
          "output_type": "stream",
          "name": "stdout",
          "text": [
            "Completed Period: 2\n",
            "Processing Period: 3\n"
          ]
        },
        {
          "output_type": "stream",
          "name": "stderr",
          "text": [
            "<ipython-input-5-8986345cd16e>:7: SettingWithCopyWarning: \n",
            "A value is trying to be set on a copy of a slice from a DataFrame.\n",
            "Try using .loc[row_indexer,col_indexer] = value instead\n",
            "\n",
            "See the caveats in the documentation: https://pandas.pydata.org/pandas-docs/stable/user_guide/indexing.html#returning-a-view-versus-a-copy\n",
            "  household_data['Retail Firm'] = household_data['Retail Firm'].astype(str)\n"
          ]
        },
        {
          "output_type": "stream",
          "name": "stdout",
          "text": [
            "Completed Period: 3\n",
            "Processing Period: 4\n"
          ]
        },
        {
          "output_type": "stream",
          "name": "stderr",
          "text": [
            "<ipython-input-5-8986345cd16e>:7: SettingWithCopyWarning: \n",
            "A value is trying to be set on a copy of a slice from a DataFrame.\n",
            "Try using .loc[row_indexer,col_indexer] = value instead\n",
            "\n",
            "See the caveats in the documentation: https://pandas.pydata.org/pandas-docs/stable/user_guide/indexing.html#returning-a-view-versus-a-copy\n",
            "  household_data['Retail Firm'] = household_data['Retail Firm'].astype(str)\n"
          ]
        },
        {
          "output_type": "stream",
          "name": "stdout",
          "text": [
            "Completed Period: 4\n",
            "Processing Period: 5\n"
          ]
        },
        {
          "output_type": "stream",
          "name": "stderr",
          "text": [
            "<ipython-input-5-8986345cd16e>:7: SettingWithCopyWarning: \n",
            "A value is trying to be set on a copy of a slice from a DataFrame.\n",
            "Try using .loc[row_indexer,col_indexer] = value instead\n",
            "\n",
            "See the caveats in the documentation: https://pandas.pydata.org/pandas-docs/stable/user_guide/indexing.html#returning-a-view-versus-a-copy\n",
            "  household_data['Retail Firm'] = household_data['Retail Firm'].astype(str)\n"
          ]
        },
        {
          "output_type": "stream",
          "name": "stdout",
          "text": [
            "Completed Period: 5\n",
            "Processing Period: 6\n"
          ]
        },
        {
          "output_type": "stream",
          "name": "stderr",
          "text": [
            "<ipython-input-5-8986345cd16e>:7: SettingWithCopyWarning: \n",
            "A value is trying to be set on a copy of a slice from a DataFrame.\n",
            "Try using .loc[row_indexer,col_indexer] = value instead\n",
            "\n",
            "See the caveats in the documentation: https://pandas.pydata.org/pandas-docs/stable/user_guide/indexing.html#returning-a-view-versus-a-copy\n",
            "  household_data['Retail Firm'] = household_data['Retail Firm'].astype(str)\n"
          ]
        },
        {
          "output_type": "stream",
          "name": "stdout",
          "text": [
            "Completed Period: 6\n",
            "Processing Period: 7\n"
          ]
        },
        {
          "output_type": "stream",
          "name": "stderr",
          "text": [
            "<ipython-input-5-8986345cd16e>:7: SettingWithCopyWarning: \n",
            "A value is trying to be set on a copy of a slice from a DataFrame.\n",
            "Try using .loc[row_indexer,col_indexer] = value instead\n",
            "\n",
            "See the caveats in the documentation: https://pandas.pydata.org/pandas-docs/stable/user_guide/indexing.html#returning-a-view-versus-a-copy\n",
            "  household_data['Retail Firm'] = household_data['Retail Firm'].astype(str)\n"
          ]
        },
        {
          "output_type": "stream",
          "name": "stdout",
          "text": [
            "Completed Period: 7\n",
            "Processing Period: 8\n"
          ]
        },
        {
          "output_type": "stream",
          "name": "stderr",
          "text": [
            "<ipython-input-5-8986345cd16e>:7: SettingWithCopyWarning: \n",
            "A value is trying to be set on a copy of a slice from a DataFrame.\n",
            "Try using .loc[row_indexer,col_indexer] = value instead\n",
            "\n",
            "See the caveats in the documentation: https://pandas.pydata.org/pandas-docs/stable/user_guide/indexing.html#returning-a-view-versus-a-copy\n",
            "  household_data['Retail Firm'] = household_data['Retail Firm'].astype(str)\n"
          ]
        },
        {
          "output_type": "stream",
          "name": "stdout",
          "text": [
            "Completed Period: 8\n",
            "Processing Period: 9\n"
          ]
        },
        {
          "output_type": "stream",
          "name": "stderr",
          "text": [
            "<ipython-input-5-8986345cd16e>:7: SettingWithCopyWarning: \n",
            "A value is trying to be set on a copy of a slice from a DataFrame.\n",
            "Try using .loc[row_indexer,col_indexer] = value instead\n",
            "\n",
            "See the caveats in the documentation: https://pandas.pydata.org/pandas-docs/stable/user_guide/indexing.html#returning-a-view-versus-a-copy\n",
            "  household_data['Retail Firm'] = household_data['Retail Firm'].astype(str)\n"
          ]
        },
        {
          "output_type": "stream",
          "name": "stdout",
          "text": [
            "Completed Period: 9\n",
            "Processing Period: 10\n"
          ]
        },
        {
          "output_type": "stream",
          "name": "stderr",
          "text": [
            "<ipython-input-5-8986345cd16e>:7: SettingWithCopyWarning: \n",
            "A value is trying to be set on a copy of a slice from a DataFrame.\n",
            "Try using .loc[row_indexer,col_indexer] = value instead\n",
            "\n",
            "See the caveats in the documentation: https://pandas.pydata.org/pandas-docs/stable/user_guide/indexing.html#returning-a-view-versus-a-copy\n",
            "  household_data['Retail Firm'] = household_data['Retail Firm'].astype(str)\n"
          ]
        },
        {
          "output_type": "stream",
          "name": "stdout",
          "text": [
            "Completed Period: 10\n",
            "Processing Period: 11\n"
          ]
        },
        {
          "output_type": "stream",
          "name": "stderr",
          "text": [
            "<ipython-input-5-8986345cd16e>:7: SettingWithCopyWarning: \n",
            "A value is trying to be set on a copy of a slice from a DataFrame.\n",
            "Try using .loc[row_indexer,col_indexer] = value instead\n",
            "\n",
            "See the caveats in the documentation: https://pandas.pydata.org/pandas-docs/stable/user_guide/indexing.html#returning-a-view-versus-a-copy\n",
            "  household_data['Retail Firm'] = household_data['Retail Firm'].astype(str)\n"
          ]
        },
        {
          "output_type": "stream",
          "name": "stdout",
          "text": [
            "Completed Period: 11\n",
            "Processing Period: 12\n"
          ]
        },
        {
          "output_type": "stream",
          "name": "stderr",
          "text": [
            "<ipython-input-5-8986345cd16e>:7: SettingWithCopyWarning: \n",
            "A value is trying to be set on a copy of a slice from a DataFrame.\n",
            "Try using .loc[row_indexer,col_indexer] = value instead\n",
            "\n",
            "See the caveats in the documentation: https://pandas.pydata.org/pandas-docs/stable/user_guide/indexing.html#returning-a-view-versus-a-copy\n",
            "  household_data['Retail Firm'] = household_data['Retail Firm'].astype(str)\n"
          ]
        },
        {
          "output_type": "stream",
          "name": "stdout",
          "text": [
            "Completed Period: 12\n",
            "All periods processed and results saved.\n"
          ]
        }
      ]
    }
  ]
}