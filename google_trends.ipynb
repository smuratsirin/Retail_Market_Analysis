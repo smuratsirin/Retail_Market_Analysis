{
  "nbformat": 4,
  "nbformat_minor": 0,
  "metadata": {
    "colab": {
      "provenance": [],
      "authorship_tag": "ABX9TyOAkv0Q2nJjJ3HpRLTYEPv9",
      "include_colab_link": true
    },
    "kernelspec": {
      "name": "python3",
      "display_name": "Python 3"
    },
    "language_info": {
      "name": "python"
    }
  },
  "cells": [
    {
      "cell_type": "markdown",
      "metadata": {
        "id": "view-in-github",
        "colab_type": "text"
      },
      "source": [
        "<a href=\"https://colab.research.google.com/github/smuratsirin/Retail_Market_Analysis/blob/main/google_trends.ipynb\" target=\"_parent\"><img src=\"https://colab.research.google.com/assets/colab-badge.svg\" alt=\"Open In Colab\"/></a>"
      ]
    },
    {
      "cell_type": "code",
      "source": [
        "pip install pytrends"
      ],
      "metadata": {
        "colab": {
          "base_uri": "https://localhost:8080/"
        },
        "id": "pmd_uLqH9FTL",
        "outputId": "457e1a44-e9b6-42ef-cd49-a952fd18122d"
      },
      "execution_count": 2,
      "outputs": [
        {
          "output_type": "stream",
          "name": "stdout",
          "text": [
            "Collecting pytrends\n",
            "  Downloading pytrends-4.9.2-py3-none-any.whl (15 kB)\n",
            "Requirement already satisfied: requests>=2.0 in /usr/local/lib/python3.10/dist-packages (from pytrends) (2.31.0)\n",
            "Requirement already satisfied: pandas>=0.25 in /usr/local/lib/python3.10/dist-packages (from pytrends) (2.0.3)\n",
            "Requirement already satisfied: lxml in /usr/local/lib/python3.10/dist-packages (from pytrends) (4.9.4)\n",
            "Requirement already satisfied: python-dateutil>=2.8.2 in /usr/local/lib/python3.10/dist-packages (from pandas>=0.25->pytrends) (2.8.2)\n",
            "Requirement already satisfied: pytz>=2020.1 in /usr/local/lib/python3.10/dist-packages (from pandas>=0.25->pytrends) (2023.4)\n",
            "Requirement already satisfied: tzdata>=2022.1 in /usr/local/lib/python3.10/dist-packages (from pandas>=0.25->pytrends) (2024.1)\n",
            "Requirement already satisfied: numpy>=1.21.0 in /usr/local/lib/python3.10/dist-packages (from pandas>=0.25->pytrends) (1.25.2)\n",
            "Requirement already satisfied: charset-normalizer<4,>=2 in /usr/local/lib/python3.10/dist-packages (from requests>=2.0->pytrends) (3.3.2)\n",
            "Requirement already satisfied: idna<4,>=2.5 in /usr/local/lib/python3.10/dist-packages (from requests>=2.0->pytrends) (3.7)\n",
            "Requirement already satisfied: urllib3<3,>=1.21.1 in /usr/local/lib/python3.10/dist-packages (from requests>=2.0->pytrends) (2.0.7)\n",
            "Requirement already satisfied: certifi>=2017.4.17 in /usr/local/lib/python3.10/dist-packages (from requests>=2.0->pytrends) (2024.2.2)\n",
            "Requirement already satisfied: six>=1.5 in /usr/local/lib/python3.10/dist-packages (from python-dateutil>=2.8.2->pandas>=0.25->pytrends) (1.16.0)\n",
            "Installing collected packages: pytrends\n",
            "Successfully installed pytrends-4.9.2\n"
          ]
        }
      ]
    },
    {
      "cell_type": "code",
      "execution_count": 1,
      "metadata": {
        "id": "1ppB-3zA71Vm"
      },
      "outputs": [],
      "source": [
        "from pytrends.request import TrendReq\n",
        "import pandas as pd\n",
        "from datetime import datetime, timedelta\n",
        "\n",
        "def fetch_monthly_google_trends_data_by_city(keywords, start_date, end_date, country_code, filename):\n",
        "    # Initialize a connection to Google Trends with settings for the Turkish interface\n",
        "    pytrends = TrendReq(hl='tr-TR', tz=180)  # Set language to Turkish and timezone to GMT+3\n",
        "\n",
        "    # Prepare date range for monthly intervals\n",
        "    start_datetime = datetime.strptime(start_date, '%Y-%m-%d')\n",
        "    end_datetime = datetime.strptime(end_date, '%Y-%m-%d')\n",
        "    current_datetime = start_datetime\n",
        "\n",
        "    # Create an empty DataFrame to store all data\n",
        "    all_data = pd.DataFrame()\n",
        "\n",
        "    # Loop through each month in the specified period\n",
        "    while current_datetime <= end_datetime:\n",
        "        next_month = current_datetime + timedelta(days=31)  # Move to the next month\n",
        "        next_month = next_month.replace(day=1)  # Set day to the first of the month\n",
        "\n",
        "        # Set the timeframe for this month's data\n",
        "        if next_month > end_datetime:  # Ensure the end date is not exceeded\n",
        "            next_month = end_datetime + timedelta(days=1)\n",
        "        timeframe = f'{current_datetime.strftime(\"%Y-%m-%d\")} {next_month.strftime(\"%Y-%m-%d\")}'\n",
        "\n",
        "        # Build payload with the timeframe and geographic focus\n",
        "        pytrends.build_payload(kw_list=keywords, timeframe=timeframe, geo=country_code)\n",
        "\n",
        "        # Fetch interest by city within the country for the month\n",
        "        data_by_city = pytrends.interest_by_region(resolution='CITY', inc_low_vol=True, inc_geo_code=False)\n",
        "        data_by_city['date'] = current_datetime.strftime(\"%Y-%m\")  # Add a date column to the data\n",
        "\n",
        "        # Append the monthly data to the all_data DataFrame\n",
        "        all_data = pd.concat([all_data, data_by_city])\n",
        "\n",
        "        # Update the current date to the next month\n",
        "        current_datetime = next_month\n",
        "\n",
        "    # Save all collected data to a CSV file\n",
        "    all_data.to_csv(filename)\n",
        "    print(f\"All data saved to {filename}\")\n",
        "\n",
        "\n",
        "\n",
        "\n",
        "\n"
      ]
    },
    {
      "cell_type": "code",
      "source": [
        "# Example usage:\n",
        "keywords = ['iklim']  # List of search keywords\n",
        "start_date = '2020-01-01'  # Start date for the Google Trends data\n",
        "end_date = '2023-01-01'  # End date for the Google Trends data\n",
        "country_code = 'TR'  # Geo-location code for Turkey\n",
        "filename = 'monthly_google_trends_data_by_city.csv'  # Filename to save the CSV\n",
        "\n",
        "# Call the function with the specified parameters\n",
        "fetch_monthly_google_trends_data_by_city(keywords, start_date, end_date, country_code, filename)"
      ],
      "metadata": {
        "colab": {
          "base_uri": "https://localhost:8080/"
        },
        "id": "5cFxRpl-80eD",
        "outputId": "cf26d4cc-9548-42b0-c4db-a9c28f1860f2"
      },
      "execution_count": 3,
      "outputs": [
        {
          "output_type": "stream",
          "name": "stdout",
          "text": [
            "All data saved to monthly_google_trends_data_by_city.csv\n"
          ]
        }
      ]
    },
    {
      "cell_type": "code",
      "source": [],
      "metadata": {
        "id": "CYowvlA49owQ"
      },
      "execution_count": null,
      "outputs": []
    }
  ]
}